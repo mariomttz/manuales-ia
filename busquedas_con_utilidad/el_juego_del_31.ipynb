{
  "cells": [
    {
      "cell_type": "markdown",
      "metadata": {
        "id": "KFnlEVHzKNBh"
      },
      "source": [
        "# El juego del 31"
      ]
    },
    {
      "cell_type": "markdown",
      "metadata": {},
      "source": [
        "> El manual para realizar la práctica, puedes encontrarlo y descargarlo al visitar el siguiente enlace: https://github.com/mariomttz/manuales-ia/blob/master/busquedas_con_utilidad/el_juego_del_31.pdf"
      ]
    },
    {
      "cell_type": "markdown",
      "metadata": {
        "id": "2IIjx1ThKNBi"
      },
      "source": [
        "## Representación"
      ]
    },
    {
      "cell_type": "markdown",
      "metadata": {
        "id": "My6Dq5JpKNBj"
      },
      "source": [
        "### Tablero de juego"
      ]
    },
    {
      "cell_type": "code",
      "execution_count": null,
      "metadata": {
        "id": "gLo7jsZZKNBi"
      },
      "outputs": [],
      "source": [
        "import copy"
      ]
    },
    {
      "cell_type": "markdown",
      "metadata": {
        "id": "gk7DGQ9CKNBj"
      },
      "source": [
        "A continuación se define la clase ***Gameboard*** que representará un estado del tablero de juego. En ***tokens*** se almacena un diccionario con la cantidad de casillas por cada valor que han sido utlizadas y ***value*** nos indica cual es la suma de estas casillas."
      ]
    },
    {
      "cell_type": "code",
      "execution_count": null,
      "metadata": {
        "id": "NARQ4nOUKNBj"
      },
      "outputs": [],
      "source": [
        "class Gameboard:\n",
        "\n",
        "    def __init__(self,tokens,value):\n",
        "        self.tokens = tokens\n",
        "        self.value  = value\n",
        "\n",
        "\n",
        "    def __eq__(self,other):\n",
        "        return (self.tokens == other.tokens)\n",
        "\n",
        "\n",
        "    def __copy__(self):\n",
        "        return Gameboard(self.tokens, self.value)\n",
        "\n",
        "\n",
        "    def __deepcopy__(self,memo):\n",
        "        tokens = copy.deepcopy(self.tokens,memo)\n",
        "        value  = copy.deepcopy(self.value ,memo)\n",
        "        return Gameboard(tokens,value)\n",
        "\n",
        "\n",
        "    def print(self):\n",
        "        print( \"En el tablero analizado se ha usado:\" )\n",
        "        for value,times_used in self.tokens.items():\n",
        "            print( \"\\t {} veces la casilla {}\".format(times_used,value) )\n",
        "        print( \"La suma del tablero es: {}\".format(self.value) )"
      ]
    },
    {
      "cell_type": "markdown",
      "metadata": {
        "id": "Gyw6xLudKNBj"
      },
      "source": [
        "En la siguiente celda definiremos las dimensiones del tablero, la cantidad de filas y columnas que tendrá. También definiremos el máximo número que será válido antes de que no existan movimientos posibles."
      ]
    },
    {
      "cell_type": "code",
      "execution_count": null,
      "metadata": {
        "id": "O0jH0n0FKNBk"
      },
      "outputs": [],
      "source": [
        "total_rows        = 4\n",
        "max_token_value   = 6\n",
        "max_allowed_value = 31"
      ]
    },
    {
      "cell_type": "markdown",
      "metadata": {
        "id": "prkmCU7eKNBk"
      },
      "source": [
        "Para ejemplificar el funcionamiento de la clase ***Gameboard*** utilizaremos el tablero inicial y mostraremos en pantalla su contenido."
      ]
    },
    {
      "cell_type": "code",
      "execution_count": null,
      "metadata": {
        "id": "fuGUFtNMKNBk"
      },
      "outputs": [],
      "source": [
        "initial_gameboard = Gameboard( { i:0 for i in range(1,max_token_value+1) }, 0 )"
      ]
    },
    {
      "cell_type": "code",
      "execution_count": null,
      "metadata": {
        "colab": {
          "base_uri": "https://localhost:8080/"
        },
        "id": "rpcvLEOIKNBk",
        "outputId": "82a82fff-f1e2-47a8-eb0b-d1990495b0c9"
      },
      "outputs": [],
      "source": [
        "initial_gameboard.print()"
      ]
    },
    {
      "cell_type": "markdown",
      "metadata": {
        "id": "hWwi3ZT3KNBm"
      },
      "source": [
        "### Nodo"
      ]
    },
    {
      "cell_type": "markdown",
      "metadata": {
        "id": "yeIR4nmiKNBm"
      },
      "source": [
        "A continuación se define la clase ***Node***, la cual esta conformada por un tablero, el estatus (servirá para la evaluación con el algoritmo Minimax) y el nivel que ocupa en nuestro árbol de búsqueda. Es importante mencionar que se ha definido el método ***\\_\\_lt\\_\\_*** con lo que podremos ordenar los nodos de menor a mayor basados en el valor de su tablero."
      ]
    },
    {
      "cell_type": "code",
      "execution_count": null,
      "metadata": {
        "id": "_7rEJLs9KNBm"
      },
      "outputs": [],
      "source": [
        "class Node:\n",
        "\n",
        "    def __init__(self,gameboard,level=0):\n",
        "        self.gameboard = gameboard\n",
        "        self.status    = None\n",
        "        self.level     = level\n",
        "\n",
        "\n",
        "    def __eq__(self, other):\n",
        "        return self.gameboard.value == other.gameboard.value\n",
        "\n",
        "\n",
        "    def __lt__(self, other):\n",
        "        if( self.gameboard.value == other.gameboard.value ):\n",
        "            return self.level < other.level\n",
        "        return self.gameboard.value < other.gameboard.value\n",
        "\n",
        "\n",
        "    def __copy__(self):\n",
        "        return Node(self.gameboard,self.level)\n",
        "\n",
        "\n",
        "    def __deepcopy__(self,memo):\n",
        "        gameboard = copy.deepcopy(self.gameboard,memo)\n",
        "        level     = copy.deepcopy(self.level    ,memo)\n",
        "        return Node(gameboard,level)\n",
        "\n",
        "\n",
        "    def print(self):\n",
        "        print( 'El nodo tiene las siguientes características:' )\n",
        "        print( '\\t\\t Tablero: {} '.format(self.gameboard.tokens) )\n",
        "        print( '\\t\\t Valor  : {} '.format(self.gameboard.value) )\n",
        "        print( '\\t\\t Nivel  : {} '.format(self.level) )\n",
        "        print( '\\t\\t Status : {} '.format(self.status) )"
      ]
    },
    {
      "cell_type": "markdown",
      "metadata": {
        "id": "YL1p4EmgKNBm"
      },
      "source": [
        "En la siguientes dos celdas planteamos un ejemplo de su instanciación mediante el tablero inicial definido anteriormente."
      ]
    },
    {
      "cell_type": "code",
      "execution_count": null,
      "metadata": {
        "id": "xsxNn-3hKNBm"
      },
      "outputs": [],
      "source": [
        "initial_node = Node(initial_gameboard,0)"
      ]
    },
    {
      "cell_type": "code",
      "execution_count": null,
      "metadata": {
        "colab": {
          "base_uri": "https://localhost:8080/"
        },
        "id": "eZ6ymAvAKNBm",
        "outputId": "0319443d-9594-4e4f-9ff4-fafbc8179938"
      },
      "outputs": [],
      "source": [
        "initial_node.print()"
      ]
    },
    {
      "cell_type": "markdown",
      "metadata": {
        "id": "VEFBKdjiKNBn"
      },
      "source": [
        "## Exploración del árbol de búsqueda"
      ]
    },
    {
      "cell_type": "markdown",
      "metadata": {
        "id": "gIdR7fHWKNBn"
      },
      "source": [
        "Antes de comenzar a explicar el código de las siguientes celdas es importante entender cuál será el procedimiento. Cuando hacemos la elección de una casilla de valor ***a*** como primer movimiento y el adversario elige una casilla de valor ***b***, la situación que tendremos en el tercer movimiento será equivalente a que los valores se hubiesen escogido en el orden inverso. Teniendo esto en cuenta podemos definir a nuestro árbol de búsqueda basados en las primeras apariciones de un mismo estado."
      ]
    },
    {
      "cell_type": "markdown",
      "metadata": {
        "id": "BM6mHnkVKNBn"
      },
      "source": [
        "Si estamos en un nodo cuyo valor en la suma de las casillas seleccionadas puede llevarnos a estados que no rebasen la máxima suma permitida y a la vez a estados que la rebasen, ¿cuáles deberían de tener más prioridad? Basados en esto hemos definido que los nodos que se exploren primero sean aquellos de menor valor en la evaluación mencionada. Así cuando lleguemos al primer nodo cuyo estado rebase máxima suma permitida, todos los estados de nodos no fueron explorados serán ***posiciones perdedoras***."
      ]
    },
    {
      "cell_type": "markdown",
      "metadata": {
        "id": "OXgXazKEKNBn"
      },
      "source": [
        "Lo anterior nos dice que los nodos explorados pudieron ser posiciones perdedoras o ganadoras, pero todos los que no fueron explorados definitivamente serán posiciones perdedoras."
      ]
    },
    {
      "cell_type": "code",
      "execution_count": null,
      "metadata": {
        "id": "qwp19QapKNBn"
      },
      "outputs": [],
      "source": [
        "# Dado un nodo inicial y las restricciones de tablero y máximo valor:\n",
        "#    - Explora el árbol de búsqueda\n",
        "#    - Genera una lista de los nodos explorados y un set de los tableros asociados a ellos.\n",
        "#    - Devuelve las estructuras mencionadas\n",
        "def exploration(initial_node,total_rows,max_token_value,max_allowed_value):\n",
        "\n",
        "    # Inicializamos la frontera\n",
        "    frontier = [ initial_node ]\n",
        "\n",
        "    # Tendremos dos sets:\n",
        "    #    - Uno con los tableros que hemos visto\n",
        "    #    - Otro con los tableros que hemos explorado\n",
        "    seen_before_gameboards     = set( [str(list(initial_node.gameboard.tokens.values()))] )\n",
        "    explored_before_gameboards = set()\n",
        "\n",
        "    # Una lista de los nodos que se exploraron,\n",
        "    #    dada la manera de hacer la búsqueda estará ordenada de manera ascendente.\n",
        "    explored_before_nodes = []\n",
        "\n",
        "\n",
        "    # Mientras tengamos elementos en la frontera\n",
        "    while( frontier ):\n",
        "\n",
        "        # Tomamos el primer nodo de la frontera (el menor)\n",
        "        actual_node = frontier[0]\n",
        "\n",
        "        # Si es mayor que nuestro máximo valor permitido,\n",
        "        #    ¿para qué explorarlo o a los siguientes nodos?\n",
        "        if( actual_node.gameboard.value > max_allowed_value ):\n",
        "            # Entonces salimos del while\n",
        "            break\n",
        "\n",
        "        # Al no ser menor quitamos ese elemento de la frontera\n",
        "        frontier = frontier[1:]\n",
        "\n",
        "        # Añadimos su tablero al set de tableros explorados\n",
        "        explored_before_gameboards.add( str(list(actual_node.gameboard.tokens.values())) )\n",
        "\n",
        "        # Añadimos el nodo al final de la lista de nodos explorados\n",
        "        explored_before_nodes.append(actual_node)\n",
        "\n",
        "        # Generamos todos los nodos hijo a través de una función sucesor\n",
        "        children_nodes = succesor_function(actual_node,total_rows,max_token_value)\n",
        "\n",
        "        # Para cada nodo hijo revisaremos:\n",
        "        for new_node in children_nodes:\n",
        "\n",
        "            # Que NO se haya visto su tablero asociado anteriormente\n",
        "            if( not (str(list(new_node.gameboard.tokens.values())) in seen_before_gameboards) ):\n",
        "\n",
        "                # De ser cierto lo anterior:\n",
        "\n",
        "                # Agregamos el tablero a la lista de tableros visto anteriormente\n",
        "                seen_before_gameboards.add( str(list(new_node.gameboard.tokens.values())) )\n",
        "\n",
        "                # Agregamos el nodo al final dela frontera y reordenamos\n",
        "                frontier.append( new_node )\n",
        "                frontier = sorted(frontier)\n",
        "\n",
        "    # Al tener todos los nodos explorados regresaremos:\n",
        "    #    - La lista de nodos explorados (está ordenada de menor a mayor)\n",
        "    #    - El set de nodos explorados (para que la consulta no sea lineal)\n",
        "    return explored_before_nodes,explored_before_gameboards"
      ]
    },
    {
      "cell_type": "markdown",
      "metadata": {
        "id": "8sDaIIk8KNBn"
      },
      "source": [
        "En la celda anterior se usó la denominada función sucesor, en la siguiente celda podemos ver su implementación:"
      ]
    },
    {
      "cell_type": "code",
      "execution_count": null,
      "metadata": {
        "id": "fr3YJs8QKNBo"
      },
      "outputs": [],
      "source": [
        "# Dado un nodo:\n",
        "#    - Genera todos los posibles nodos hijo.\n",
        "#    - Devuelve una lista con todos los nodos hijo.\n",
        "def succesor_function(node,total_rows,max_token_value):\n",
        "\n",
        "    # Lista para guardar los nodos hijo\n",
        "    children_nodes = []\n",
        "\n",
        "    # Vamos a iterar sobre los valores que podemos seleccionar en el tablero\n",
        "    for i in range(1,max_token_value+1):\n",
        "\n",
        "        # Si la cantidad de valores es menor que el límite (filas),\n",
        "        #    es decir, se puede seleccionar el valor, entonces:\n",
        "        if( node.gameboard.tokens[i] < total_rows ):\n",
        "\n",
        "            # Crear una copia del nodo\n",
        "            new_node = copy.deepcopy(node)\n",
        "            # Agregar el movimiento hecho\n",
        "            new_node.gameboard.tokens[i] += 1\n",
        "            # Cambiar el valor de la suma total\n",
        "            new_node.gameboard.value     += i\n",
        "            # Aumentar en uno el nivel dentro del árbol de búsqueda\n",
        "            new_node.level += 1\n",
        "            # Agregar el nodo a la lista de nodos hijo\n",
        "            children_nodes.append(new_node)\n",
        "\n",
        "    # Devolver la lista de nodos hijo\n",
        "    return children_nodes"
      ]
    },
    {
      "cell_type": "markdown",
      "metadata": {
        "id": "xzXdcEngKNBo"
      },
      "source": [
        "En la siguiente celda podemos ver el resultado de la exploración para los límites planteados en las primeras celdas de este Notebook. También veremos que el total de nodos explorados es 3551, siendo que todos los posibles estados dentro de la representación para los límites planteados son 15625."
      ]
    },
    {
      "cell_type": "code",
      "execution_count": null,
      "metadata": {
        "id": "QdehtIMiKNBo"
      },
      "outputs": [],
      "source": [
        "explored_nodes,explored_gameboards = exploration(initial_node,total_rows,max_token_value,max_allowed_value)"
      ]
    },
    {
      "cell_type": "code",
      "execution_count": null,
      "metadata": {
        "colab": {
          "base_uri": "https://localhost:8080/"
        },
        "id": "nQYEt9vpKNBo",
        "outputId": "0d8e021c-e2fc-448d-b2b7-6fa45d833a1c"
      },
      "outputs": [],
      "source": [
        "len(explored_nodes)"
      ]
    },
    {
      "cell_type": "markdown",
      "metadata": {
        "id": "dP3oriUKKNBo"
      },
      "source": [
        "## Minimax"
      ]
    },
    {
      "cell_type": "markdown",
      "metadata": {
        "id": "3Gc11PMbKNBo"
      },
      "source": [
        "De los estados que no han sido etiquetados aún, veremos si son o no posiciones ganadoras, con la intención de averiguar para quién son. Para eso, revisaremos en orden de mayor a menor a los nodos. Recordemos que al ver una posición etiquetada como ganadora o perdedora se involucra también la información sobre qué persona recibe esa posición."
      ]
    },
    {
      "cell_type": "markdown",
      "metadata": {
        "id": "O3MDIj0jKNBo"
      },
      "source": [
        "Aquí hay que tener mucho cuidado, para ejemplicar lo anterior tengamos los siguientes dos escenarios:\n",
        "\n",
        "- ***Escenario 1:*** Se han jugado los números 5,6,6,1,6,2,5 *(suma 31)*.\n",
        "- ***Escenario 2:*** Se han jugado los números 5,4,4,3,4,2,5,5 *(suma 31)*."
      ]
    },
    {
      "cell_type": "markdown",
      "metadata": {
        "id": "QRjI7st-KNBo"
      },
      "source": [
        "Por la definición de posición ganadora, ambos escenarios corresponden a una posición ganadora. ¿Quién gana en cada caso?"
      ]
    },
    {
      "cell_type": "markdown",
      "metadata": {
        "id": "GpaOgSytKNBo"
      },
      "source": [
        "*Responde en esta celda.*"
      ]
    },
    {
      "cell_type": "markdown",
      "metadata": {
        "id": "D6qjDRlzKNBp"
      },
      "source": [
        "Entonces podemos decir que una posición ganadora en el turno de A, será buena para A. Pero una posición ganadora en el turno de B, NO será positiva para A. Esto es super importante para proceder a la siguiente parte del Notebook, te recomendamos analizarlo."
      ]
    },
    {
      "cell_type": "markdown",
      "metadata": {
        "id": "d16T9gKyKNBp"
      },
      "source": [
        "Con esto en mente, procederemos a usar una función que nos dirá para cada nodo cuál es su ***\\\"status\\\"***, para ello definiremos que **si el valor es 1, es una posición que benificia al jugador A**, mientras que ***si el valor es -1, es una posición que NO beneficia a A***."
      ]
    },
    {
      "cell_type": "code",
      "execution_count": null,
      "metadata": {
        "id": "QE4Wu2gOKNBp"
      },
      "outputs": [],
      "source": [
        "def check_strategy(explored_nodes,total_rows,max_token_value):\n",
        "\n",
        "    # Diccionario que nos dice para un tablero asociado a un nodo,\n",
        "    #    cuál es el status de nodo\n",
        "    checked_status_gameboards = dict()\n",
        "\n",
        "    # Iteramos sobre los nodos de mayor a menor\n",
        "    for actual_node in reversed(explored_nodes):\n",
        "\n",
        "        # Calculamos el status del nodo\n",
        "        new_status = calculate_node_status(actual_node,checked_status_gameboards,total_rows,max_token_value)\n",
        "        # Agregamos este valor a .status\n",
        "        actual_node.status = new_status\n",
        "\n",
        "    # Si el estado inicial (no tener ninguna ficha)\n",
        "    #    tiene un valor de 1 significa que el estado beneficia al jugador A\n",
        "    if( explored_nodes[0].status == 1 ):\n",
        "        return checked_status_gameboards,\"El jugador A tiene estrategia ganadora\"\n",
        "    else:\n",
        "        return checked_status_gameboards,\"El jugador A NO tiene estrategia ganadora\""
      ]
    },
    {
      "cell_type": "markdown",
      "metadata": {
        "id": "7JNjsx-VKNBq"
      },
      "source": [
        "En la celda anterior se hizo uso de la función ***calculate_node_status***, a continuación se muestra su definición:"
      ]
    },
    {
      "cell_type": "code",
      "execution_count": null,
      "metadata": {
        "id": "jhpDUg8TKNBq"
      },
      "outputs": [],
      "source": [
        "def calculate_node_status(node,checked_status_gameboards,total_rows,max_token_value):\n",
        "\n",
        "    # Obtenemos los nodos hijo del nodo que se analiza actualmente\n",
        "    children_nodes = succesor_function(node,total_rows,max_token_value)\n",
        "\n",
        "    # Comenzamos con la situación contraria a la que desean los jugadores:\n",
        "    if( node.level%2 == 0 ):\n",
        "        # Jugador A busca cambiar (MAXIMIZAR) el valor de status\n",
        "        #    en busca de obtener el valor 1\n",
        "        status = -1\n",
        "    else:\n",
        "        # Jugador B busca cambiar (MINIMIZAR) el valor de status\n",
        "        #    en busca de obtener el valor -1\n",
        "        status = 1\n",
        "\n",
        "    # Iteramos sobre los nodos hijo\n",
        "    for new_node in children_nodes:\n",
        "\n",
        "        # Para mayor facilidad el key del tablero lo ponemos en una variable\n",
        "        key_str = str(list(new_node.gameboard.tokens.values()))\n",
        "\n",
        "        # Revisamos que el tablero del nodo hijo haya sido revisado,\n",
        "        #    el caso de que esto no ocurra es porque su suma es mayor al máximo permitido\n",
        "        if( key_str in checked_status_gameboards.keys() ):\n",
        "\n",
        "            # Maximizar y minimizar dependiendo del jugador\n",
        "            if( node.level%2 == 0 ):\n",
        "                status = max(status,checked_status_gameboards[key_str])\n",
        "            else:\n",
        "                status = min(status,checked_status_gameboards[key_str])\n",
        "\n",
        "    # Agregamos un registro al diccionario, así lo podemos usar en las siguientes iteraciones\n",
        "    checked_status_gameboards[ str(list(node.gameboard.tokens.values())) ] = status\n",
        "\n",
        "    return status"
      ]
    },
    {
      "cell_type": "code",
      "execution_count": null,
      "metadata": {
        "id": "kpWMfwEpKNBq"
      },
      "outputs": [],
      "source": [
        "nodes_status,message = check_strategy(explored_nodes,total_rows,max_token_value)"
      ]
    },
    {
      "cell_type": "code",
      "execution_count": null,
      "metadata": {
        "colab": {
          "base_uri": "https://localhost:8080/"
        },
        "id": "6vesWcYLKNBq",
        "outputId": "e962ea10-9f3a-449b-a984-0f967315e93c"
      },
      "outputs": [],
      "source": [
        "len(nodes_status),message"
      ]
    },
    {
      "cell_type": "markdown",
      "metadata": {
        "id": "lyaJ52VvgKDB"
      },
      "source": [
        "**Ejercicio 1:**\n",
        "\n",
        "El juego se ha desarrollado de la siguiente manera:\n",
        "\n",
        "* Jugador A, selecciona el número 1.\n",
        "* Jugador B, selecciona el número 6.\n",
        "* Jugador A, selecciona el número 2.\n",
        "* Jugador B, selecciona el número 2.\n",
        "* Jugador A, selecciona el número 5.\n",
        "* Jugador B, selecciona el número 2.\n",
        "* Jugador A, selecciona el número 3.\n",
        "* Jugador B, selecciona el número 2.\n",
        "* Jugador A, selecciona el número 6.\n",
        "\n",
        "¿Cuál será el valor del atributo ***.status*** para el nodo asociado a este estado del juego? Justifica tu respuesta.\n"
      ]
    },
    {
      "cell_type": "markdown",
      "metadata": {
        "id": "4Y6Ndd0WlTtz"
      },
      "source": [
        "*Responde en esta celda.*"
      ]
    },
    {
      "cell_type": "markdown",
      "metadata": {
        "id": "R9IFPJc8KNBr"
      },
      "source": [
        "## ¿Cómo ganar?"
      ]
    },
    {
      "cell_type": "markdown",
      "metadata": {
        "id": "Ifu3QfS9KNBr"
      },
      "source": [
        "\n",
        "Si tenemos estrategia ganadora será importante saber cuál es el movimiento que me permite seguir esta estrategia, para ello definiremos las siguientes dos funciones."
      ]
    },
    {
      "cell_type": "code",
      "execution_count": null,
      "metadata": {
        "id": "gC6huWo4KNBs"
      },
      "outputs": [],
      "source": [
        "# Dado un nodo, las restricciones del tablero y qué jugador lo pregunta,\n",
        "#   sugiere la mejor opción.\n",
        "def what_to_do(node,nodes_status,total_rows,max_token_value, player=\"A\"):\n",
        "\n",
        "    # Obtener los nodos hijo del nodo que se revisa actualmente\n",
        "    children_nodes = succesor_function(node,total_rows,max_token_value)\n",
        "\n",
        "    # Revisar en orden de mayor a manor los hijos,\n",
        "    #   solo para que el árbol sea más corto\n",
        "    for new_node in reversed(children_nodes):\n",
        "\n",
        "        # Tablero asociado al nodo hijo en un string\n",
        "        key_str = str(list(new_node.gameboard.tokens.values()))\n",
        "\n",
        "        # Si el nodo hijo fue evaluado en su status debe de aparecer\n",
        "        if( key_str in nodes_status.keys() ):\n",
        "\n",
        "            # Este es el status (1,-1) del nodo hijo\n",
        "            child_status= nodes_status[key_str]\n",
        "\n",
        "            # De acuerdo a qué jugador seamos decidimos si nos interesa el valor\n",
        "            if( player == \"A\"  and  child_status == 1 ):\n",
        "                return get_next_move(node,new_node)\n",
        "            elif( player == \"B\"  and  child_status == -1 ):\n",
        "                return get_next_move(node,new_node)\n",
        "\n",
        "    # Si llegamos aquí es porque ninguna opción nos beneficiaba\n",
        "    return \"Ya no hay nada por hacer :(\""
      ]
    },
    {
      "cell_type": "code",
      "execution_count": null,
      "metadata": {
        "id": "GY2YBzO5KNBs"
      },
      "outputs": [],
      "source": [
        "# Una vez que hemos elegido un nodo hijo que nos beneficia\n",
        "def get_next_move(parent_node, child_node):\n",
        "\n",
        "    # Obtener el valor de la casilla a seleccionar viendo cual valor es diferente (+1)\n",
        "    for a,b in zip(parent_node.gameboard.tokens.items(),child_node.gameboard.tokens.items()):\n",
        "        if( a[1] != b[1] ):\n",
        "            return \"Coloca una ficha sobre una casilla de número {}\".format(a[0])\n",
        "\n",
        "    return None"
      ]
    },
    {
      "cell_type": "markdown",
      "metadata": {
        "id": "uICobw1jKNBs"
      },
      "source": [
        "En las siguientes celdas se presenta un ejemplo de funcionamiento para las funciones presentadas en las celdas anteriores:"
      ]
    },
    {
      "cell_type": "code",
      "execution_count": null,
      "metadata": {
        "id": "zKCvN_Z1KNBs"
      },
      "outputs": [],
      "source": [
        "my_tokens = { 1:1, 2:2, 3:0, 4:0, 5:3, 6:0 }\n",
        "my_value  = 20\n",
        "actual_gameboard = Gameboard(my_tokens,my_value)"
      ]
    },
    {
      "cell_type": "code",
      "execution_count": null,
      "metadata": {
        "id": "6a-ZQMOcKNBs"
      },
      "outputs": [],
      "source": [
        "actual_node = Node(actual_gameboard)"
      ]
    },
    {
      "cell_type": "code",
      "execution_count": null,
      "metadata": {
        "colab": {
          "base_uri": "https://localhost:8080/",
          "height": 36
        },
        "id": "eGCSJyvMKNBt",
        "outputId": "be62eacd-d2aa-4bfa-bb82-677673b7283c"
      },
      "outputs": [],
      "source": [
        "what_to_do(actual_node,nodes_status,total_rows,max_token_value,\"A\")"
      ]
    },
    {
      "cell_type": "markdown",
      "metadata": {
        "id": "5UWFMS8LlXPN"
      },
      "source": [
        "**Ejercicio 2:**\n",
        "\n",
        "Implementa una función que, dada una lista con los movimientos de cada jugador, nos indique qué movimiento debe realizar el jugador en el siguiente turno para ganar. Si ningún movimiento lo lleva a una posición ganadora también debe ser indicado.\n"
      ]
    },
    {
      "cell_type": "code",
      "execution_count": null,
      "metadata": {
        "id": "pVC4A-71V8n4"
      },
      "outputs": [],
      "source": [
        "# Espacio para realizar Ejercicio 2."
      ]
    },
    {
      "cell_type": "markdown",
      "metadata": {
        "id": "cAmhyCjcnAlX"
      },
      "source": [
        "Te pedimos probar con las siguientes sucesiones de movimientos:\n",
        "\n",
        "* [5,6,6]\n",
        "* [2,5,6,6,4]\n",
        "* [1,5,4,3]\n",
        "* [5,4,4,3,4,4,3]\n",
        "* [5,2,5,2,5,2,5]\n",
        "\n",
        "Por favor, deja indicada la respuesta de estas pruebas."
      ]
    }
  ],
  "metadata": {
    "colab": {
      "provenance": []
    },
    "kernelspec": {
      "display_name": "Python 3",
      "language": "python",
      "name": "python3"
    },
    "language_info": {
      "codemirror_mode": {
        "name": "ipython",
        "version": 3
      },
      "file_extension": ".py",
      "mimetype": "text/x-python",
      "name": "python",
      "nbconvert_exporter": "python",
      "pygments_lexer": "ipython3",
      "version": "3.10.6"
    }
  },
  "nbformat": 4,
  "nbformat_minor": 0
}
