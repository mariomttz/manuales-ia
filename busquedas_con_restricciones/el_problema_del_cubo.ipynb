{
  "cells": [
    {
      "cell_type": "markdown",
      "id": "eb51d83b-26b4-4ab5-bfec-cdca1082d3e0",
      "metadata": {
        "id": "eb51d83b-26b4-4ab5-bfec-cdca1082d3e0"
      },
      "source": [
        "# El problema del cubo"
      ]
    },
    {
      "cell_type": "markdown",
      "id": "c885ee79",
      "metadata": {},
      "source": [
        "> El manual para realizar la práctica, puedes encontrarlo y descargarlo al visitar el siguiente enlace: https://github.com/mariomttz/manuales-ia/blob/master/busquedas_con_restricciones/el_problema_del_cubo.pdf"
      ]
    },
    {
      "cell_type": "markdown",
      "id": "c0059329-c8a9-4705-807b-00aff49be525",
      "metadata": {
        "id": "c0059329-c8a9-4705-807b-00aff49be525"
      },
      "source": [
        "Los vértices de un cubo se numeran del 1 al 8 de manera que el resultado de sumar los cuatro números de cada cara es el mismo para todas las caras. Se han colocado ya los números 1, 4 y 6 como se muestra en la figura. **¿Qué número va en el vértice marcado con x?**"
      ]
    },
    {
      "cell_type": "markdown",
      "id": "d73cd08f-e258-478e-b718-d18ffefda8a8",
      "metadata": {
        "id": "d73cd08f-e258-478e-b718-d18ffefda8a8"
      },
      "source": [
        "<div align=\"center\">\n",
        "\n",
        "![fig_00](./imgs/01.png)\n",
        "\n",
        "</div>"
      ]
    },
    {
      "cell_type": "markdown",
      "id": "b457674a-4201-4443-b7d4-7280ca2eebfd",
      "metadata": {
        "id": "b457674a-4201-4443-b7d4-7280ca2eebfd"
      },
      "source": [
        "## Definición de variables"
      ]
    },
    {
      "cell_type": "code",
      "execution_count": null,
      "id": "06b1cd51-5a48-4557-8a87-351be4a64915",
      "metadata": {
        "id": "06b1cd51-5a48-4557-8a87-351be4a64915"
      },
      "outputs": [],
      "source": [
        "from itertools import product\n",
        "from collections import deque"
      ]
    },
    {
      "cell_type": "code",
      "execution_count": null,
      "id": "52b19277-e433-44a0-9cb9-3bfe62f0b156",
      "metadata": {
        "id": "52b19277-e433-44a0-9cb9-3bfe62f0b156"
      },
      "outputs": [],
      "source": [
        "class Variable:\n",
        "    def __init__(self, id_, domain):\n",
        "        self.id = id_\n",
        "        self.domain = domain\n",
        "        \n",
        "    def __str__(self):\n",
        "        return f'{self.id} -> {self.domain}'"
      ]
    },
    {
      "cell_type": "markdown",
      "id": "fde14bf7-5350-4130-9930-7af4081d8fba",
      "metadata": {
        "id": "fde14bf7-5350-4130-9930-7af4081d8fba"
      },
      "source": [
        "En este caso nuestras variables serán los vertices del cubo, por lo tanto, primero debemos asignar nombre a cada uno de los vertices. Esto se hace para poder definirlos y diferenciarlos durante el algoritmo."
      ]
    },
    {
      "cell_type": "markdown",
      "id": "77163b6b-ad6f-4cfb-9e73-e2baec816720",
      "metadata": {
        "id": "77163b6b-ad6f-4cfb-9e73-e2baec816720"
      },
      "source": [
        "<div align=\"center\">\n",
        "\n",
        "![fig_01](./imgs/02.png)\n",
        "\n",
        "</div>"
      ]
    },
    {
      "cell_type": "markdown",
      "id": "e605aa84-4443-44de-a591-68e1a5dc3940",
      "metadata": {
        "id": "e605aa84-4443-44de-a591-68e1a5dc3940"
      },
      "source": [
        "Definimos los valores para cada variable, considerando que algunos vertices ya tienen un valor asignado"
      ]
    },
    {
      "cell_type": "code",
      "execution_count": null,
      "id": "ba861e25-6ddf-47c5-b9a7-8d30eed7c599",
      "metadata": {
        "id": "ba861e25-6ddf-47c5-b9a7-8d30eed7c599"
      },
      "outputs": [],
      "source": [
        "values = [\n",
        "    ['X1', [1,2,3,4,5,6,7,8]],\n",
        "    ['X2', [1,2,3,4,5,6,7,8]],\n",
        "    ['X3', [4]],\n",
        "    ['X4', [1]],\n",
        "    ['X5', [1,2,3,4,5,6,7,8]],\n",
        "    ['X6', [1,2,3,4,5,6,7,8]],\n",
        "    ['X7', [1,2,3,4,5,6,7,8]],\n",
        "    ['X8', [6]]\n",
        "]"
      ]
    },
    {
      "cell_type": "code",
      "execution_count": null,
      "id": "362ea535-8f30-45e6-bd83-9c7b9f0ae3a9",
      "metadata": {
        "id": "362ea535-8f30-45e6-bd83-9c7b9f0ae3a9"
      },
      "outputs": [],
      "source": [
        "variables = {}\n",
        "\n",
        "for item in values:\n",
        "    variables[item[0]] = Variable(*item)"
      ]
    },
    {
      "cell_type": "code",
      "execution_count": null,
      "id": "b4f63410-f0ec-4f29-8a0d-04934f5ff93b",
      "metadata": {
        "id": "b4f63410-f0ec-4f29-8a0d-04934f5ff93b",
        "outputId": "200ee05f-3903-4deb-81d3-4e33739035bc"
      },
      "outputs": [],
      "source": [
        "for v in variables:\n",
        "    print(variables[v])"
      ]
    },
    {
      "cell_type": "markdown",
      "id": "c9bcfa31-9d61-4fab-bfff-b1eca8477e65",
      "metadata": {
        "id": "c9bcfa31-9d61-4fab-bfff-b1eca8477e65"
      },
      "source": [
        "## Definición de restricciones"
      ]
    },
    {
      "cell_type": "markdown",
      "id": "ebff72ec-bc8c-40b8-8395-1095c89f61c8",
      "metadata": {
        "id": "ebff72ec-bc8c-40b8-8395-1095c89f61c8"
      },
      "source": [
        "Para este problema tenemos dos restricciones claramente establecidas en las instrucciones\n",
        "\n",
        "En primer lugar se menciona que la suma de los vertices de las caras debe ser la misma, esto se puede expresar de la siguiente forma:\n",
        "\n",
        "$$x1 + x2 + x3 + x4 = x5 + x6 + x7 + x8 = x2 + x3 + x6 + x7 = x3 + x4 + x7 + x8 = x1 + x4 + x5 + x8 =  x4 + x3 + x7 + x8$$\n",
        "\n",
        "Por otro lado, ningún vértice puede repetir asignación de número, por lo tanto:\n",
        "\n",
        "$$ x1 \\neq x2 \\neq  x3 \\neq  x4 \\neq  x5 \\neq  x6 \\neq  x7 \\neq  x8 $$"
      ]
    },
    {
      "cell_type": "code",
      "execution_count": null,
      "id": "f790d046-cf3b-4241-a25c-93c59a23fc5e",
      "metadata": {
        "id": "f790d046-cf3b-4241-a25c-93c59a23fc5e"
      },
      "outputs": [],
      "source": [
        "def equal_sum(x1, x2, x3, x4, x5, x6, x7, x8):\n",
        "    sums = [\n",
        "        x1 + x2 + x3 + x4,\n",
        "        x5 + x6 + x7 + x8,\n",
        "        x2 + x3 + x6 + x7,\n",
        "        x3 + x4 + x7 + x8,\n",
        "        x1 + x4 + x5 + x8,\n",
        "        x4 + x3 + x7 + x8\n",
        "    ]\n",
        "\n",
        "    return len(set(sums)) == 1\n",
        "\n",
        "def all_different(x1, x2, x3, x4, x5, x6, x7, x8):\n",
        "    return len(set([x1, x2, x3, x4, x5, x6, x7, x8])) == 8"
      ]
    },
    {
      "cell_type": "code",
      "execution_count": null,
      "id": "177f5aed-3c1f-45a1-8586-4ebd3718ebe6",
      "metadata": {
        "id": "177f5aed-3c1f-45a1-8586-4ebd3718ebe6"
      },
      "outputs": [],
      "source": [
        "class Constraint:\n",
        "    \n",
        "    def __init__(self, id_, rel_variables, func):\n",
        "        self.id = id_\n",
        "        self.related_variables = rel_variables\n",
        "        self.function = func"
      ]
    },
    {
      "cell_type": "code",
      "execution_count": null,
      "id": "7a80c438-ec08-40b6-828b-676aa47bbadd",
      "metadata": {
        "id": "7a80c438-ec08-40b6-828b-676aa47bbadd"
      },
      "outputs": [],
      "source": [
        "constraints_values = [ ['R01', ['X1', 'X2', 'X3', 'X4', 'X5', 'X6', 'X7', 'X8'], equal_sum],\n",
        "                       ['R02', ['X1', 'X2', 'X3', 'X4', 'X5', 'X6', 'X7', 'X8'], all_different]]"
      ]
    },
    {
      "cell_type": "code",
      "execution_count": null,
      "id": "d5e0422f-34aa-439c-80a0-1fc96eea7279",
      "metadata": {
        "id": "d5e0422f-34aa-439c-80a0-1fc96eea7279"
      },
      "outputs": [],
      "source": [
        "constraints = {}\n",
        "\n",
        "for item in constraints_values:\n",
        "    constraints[item[0]] = Constraint(*item)"
      ]
    },
    {
      "cell_type": "markdown",
      "id": "60997811-2378-48f8-99dd-4577687cd14e",
      "metadata": {
        "id": "60997811-2378-48f8-99dd-4577687cd14e"
      },
      "source": [
        "## Reducción de dominio"
      ]
    },
    {
      "cell_type": "markdown",
      "id": "4fa9b344-70f8-406c-9b89-68e41cf3fe20",
      "metadata": {
        "id": "4fa9b344-70f8-406c-9b89-68e41cf3fe20"
      },
      "source": [
        "Creamos todas las aristas *(X, C)* para todas las variables y restricciones"
      ]
    },
    {
      "cell_type": "code",
      "execution_count": null,
      "id": "a7671cce-0830-4b93-b360-df6f2cd89564",
      "metadata": {
        "id": "a7671cce-0830-4b93-b360-df6f2cd89564"
      },
      "outputs": [],
      "source": [
        "edges = []\n",
        "\n",
        "for key in constraints:\n",
        "    for var in constraints[key].related_variables:\n",
        "        if (var, key) not in edges:\n",
        "            edges.append((var, key))"
      ]
    },
    {
      "cell_type": "markdown",
      "id": "f8956f47-552d-4268-a822-047dc5292724",
      "metadata": {
        "id": "f8956f47-552d-4268-a822-047dc5292724"
      },
      "source": [
        "Realizamos el algoritmo AC-3 para la consistencia de arco"
      ]
    },
    {
      "cell_type": "code",
      "execution_count": null,
      "id": "4e8b124f-a0c1-4d0c-abe9-252f6aad42c1",
      "metadata": {
        "id": "4e8b124f-a0c1-4d0c-abe9-252f6aad42c1",
        "tags": []
      },
      "outputs": [],
      "source": [
        "edges_deque = deque(edges)\n",
        "\n",
        "while(edges_deque):\n",
        "    variable_name, constraint_name = edges_deque.popleft()\n",
        "\n",
        "    for value in list(variables[variable_name].domain):\n",
        "        valid = False\n",
        "\n",
        "        for combination in product(*[variables[v].domain if v != variable_name else [value] for v in constraints[constraint_name].related_variables]):\n",
        "            if constraints[constraint_name].function(*combination):\n",
        "                valid = True\n",
        "                break\n",
        "\n",
        "        if not valid:\n",
        "            variables[variable_name].domain.remove(value)\n",
        "            related_cons = [constraint for variable, constraint in edges if variable == variable_name]\n",
        "            affected_edges = [(v, c) for v, c in edges if c in related_cons and v != variable_name]\n",
        "            edges_deque += deque([edge for edge in affected_edges if edge not in edges_deque])\n"
      ]
    },
    {
      "cell_type": "markdown",
      "id": "f63fd394-746c-4de3-b51a-dfb14a5b957e",
      "metadata": {
        "id": "f63fd394-746c-4de3-b51a-dfb14a5b957e"
      },
      "source": [
        "Imprimimos los valores restantes después de la reducción de dominio"
      ]
    },
    {
      "cell_type": "code",
      "execution_count": null,
      "id": "bb46a86b-ff8f-43be-9485-7c55f14709ef",
      "metadata": {
        "id": "bb46a86b-ff8f-43be-9485-7c55f14709ef",
        "outputId": "31ff7f54-2cd7-4c9d-d268-694c10f10c68"
      },
      "outputs": [],
      "source": [
        "for v in variables:\n",
        "    print(variables[v])"
      ]
    },
    {
      "cell_type": "markdown",
      "id": "a0a0dc38-7d25-4175-b093-7493067e9b2a",
      "metadata": {
        "id": "a0a0dc38-7d25-4175-b093-7493067e9b2a"
      },
      "source": [
        "## Búsqueda"
      ]
    },
    {
      "cell_type": "markdown",
      "id": "7fb7a5ae-3350-4799-b9c8-e4f7f7302e68",
      "metadata": {
        "id": "7fb7a5ae-3350-4799-b9c8-e4f7f7302e68"
      },
      "source": [
        "En este caso como cada variable sólo tiene un valor restante, sólo tenemos una combinación por probar. Si esta combinación cumple con las restricciones, entonces la solución es la combinación. En caso contrario, el problema no tendría solución."
      ]
    },
    {
      "cell_type": "code",
      "execution_count": null,
      "id": "74aba124-06c7-472a-9b1c-6ca4b0af867c",
      "metadata": {
        "id": "74aba124-06c7-472a-9b1c-6ca4b0af867c",
        "outputId": "40ae87d3-e5a7-451e-bb90-356bf9cafea2"
      },
      "outputs": [],
      "source": [
        "equal_sum(8,5,4,1,3,2,7,6) and all_different(8,5,4,1,3,2,7,6)"
      ]
    },
    {
      "cell_type": "markdown",
      "id": "f68f614f-4c7e-4ea9-a060-74ec871f216f",
      "metadata": {
        "id": "f68f614f-4c7e-4ea9-a060-74ec871f216f"
      },
      "source": [
        "Por lo tanto la solución es esa única asignación posible"
      ]
    },
    {
      "cell_type": "code",
      "execution_count": null,
      "id": "9db78b1c-3a93-476a-8316-2f60faef73b6",
      "metadata": {
        "id": "9db78b1c-3a93-476a-8316-2f60faef73b6",
        "outputId": "3888ccd3-5a44-4641-84b0-1885a9748ccd"
      },
      "outputs": [],
      "source": [
        "for v in variables:\n",
        "    print(f'{v}: {variables[v].domain[0]}')"
      ]
    },
    {
      "cell_type": "markdown",
      "id": "3ae7fa85-80e8-4150-a7cb-c3aa9ce28f0b",
      "metadata": {
        "id": "3ae7fa85-80e8-4150-a7cb-c3aa9ce28f0b"
      },
      "source": [
        "Y respondiendo a la pregunta del problema, el vertice marcado con una $x$ (que corresponde a nuestra variable $x_{6}$) debe tomar el valor **2** para cumplir con las restricciones del problema"
      ]
    },
    {
      "cell_type": "markdown",
      "id": "HWVrMlffQ_dS",
      "metadata": {
        "id": "HWVrMlffQ_dS"
      },
      "source": [
        "**Ejercicio 1:**\n",
        "\n",
        "Ahora consideremos números en las aristas en vez de los vertices, si tomamos numeros del 1 al 12 ¿Podemos asignar un número diferente a cada arista de manera que la suma de las aristas de todas las caras sumen lo mismo considerando que _H = 2_ , _G = 11_ y _F = 12_?\n",
        "Encuentra todas las soluciones posibles si es que hay"
      ]
    },
    {
      "cell_type": "markdown",
      "id": "OuybfSYkRBQf",
      "metadata": {
        "id": "OuybfSYkRBQf"
      },
      "source": [
        "<div align=\"center\">\n",
        "\n",
        "![fig_02](./imgs/03.png)\n",
        "\n",
        "</div>"
      ]
    }
  ],
  "metadata": {
    "colab": {
      "provenance": []
    },
    "kernelspec": {
      "display_name": "Python 3 (ipykernel)",
      "language": "python",
      "name": "python3"
    },
    "language_info": {
      "codemirror_mode": {
        "name": "ipython",
        "version": 3
      },
      "file_extension": ".py",
      "mimetype": "text/x-python",
      "name": "python",
      "nbconvert_exporter": "python",
      "pygments_lexer": "ipython3",
      "version": "3.10.5"
    }
  },
  "nbformat": 4,
  "nbformat_minor": 5
}
