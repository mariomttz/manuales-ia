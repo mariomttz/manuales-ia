{
  "cells": [
    {
      "cell_type": "markdown",
      "metadata": {
        "id": "WO6nVmYvE8Yh"
      },
      "source": [
        "# Enredos"
      ]
    },
    {
      "cell_type": "markdown",
      "metadata": {},
      "source": [
        "> El manual para realizar la práctica, puedes encontrarlo y descargarlo al visitar el siguiente enlace: https://github.com/mariomttz/manuales-ia/blob/master/busquedas_no_informadas/enredos.pdf"
      ]
    },
    {
      "cell_type": "markdown",
      "metadata": {
        "id": "G4V-CFcmH1ci"
      },
      "source": [
        "En esta actividad buscamos un algoritmo que permita desenmarañar un enredo creado con cuerdas después de repetir dos operaciones en reiteradas ocasiones. Para ello se «aritmetizan» los enredos; esto es, a cada enredo se la asigna un valor que depende de la secuencia de pasos que se llevó a cabo y, para poderlo desenredar, se debe llegar a aquel que tiene asignado el 0."
      ]
    },
    {
      "cell_type": "markdown",
      "metadata": {
        "id": "hlRc_eWFgnXb"
      },
      "source": [
        "![fig_00](./imgs/06.png)"
      ]
    },
    {
      "cell_type": "markdown",
      "metadata": {
        "id": "tEhHST54EbZA"
      },
      "source": [
        "## Representación\n",
        "\n"
      ]
    },
    {
      "cell_type": "code",
      "execution_count": null,
      "metadata": {
        "id": "GYmLUL51EbZT"
      },
      "outputs": [],
      "source": [
        "import copy\n",
        "\n",
        "from collections import deque"
      ]
    },
    {
      "cell_type": "markdown",
      "metadata": {
        "id": "yF5o-CZLIDAN"
      },
      "source": [
        "A continuación, definiremos la clase __Tangle__ para representar los enredos. A cada enredo se le asocia un valor y la secuencia de pasos que llevaron a él, escrita como una cadena de caracteres _R_ y _T_ para indicar las operaciones Rotar y Torcer, respectivamente."
      ]
    },
    {
      "cell_type": "code",
      "execution_count": null,
      "metadata": {
        "id": "cd1m3gxlEbZv"
      },
      "outputs": [],
      "source": [
        "class Tangle:\n",
        "\n",
        "    def __init__(self,sequence:str,value:int):\n",
        "        self.sequence = sequence\n",
        "        self.value    = value\n",
        "\n",
        "\n",
        "    def __eq__(self,other):\n",
        "        return (self.sequence == other.sequence)\n",
        "\n",
        "\n",
        "    def __copy__(self):\n",
        "        return Tangle(self.sequence, self.value)\n",
        "\n",
        "\n",
        "    def __deepcopy__(self,memo):\n",
        "        sequence = copy.deepcopy(self.sequence,memo)\n",
        "        value    = copy.deepcopy(self.value   ,memo)\n",
        "        return Tangle(sequence,value)\n",
        "\n",
        "    def __str__(self):\n",
        "        return \"El enredo es \\\"{}\\\" y se le asocia el valor {}.\".format(self.sequence,self.value)"
      ]
    },
    {
      "cell_type": "markdown",
      "metadata": {
        "id": "r60GxbfpGqOc"
      },
      "source": [
        "De acuerdo con la definición de __eq__, ¿cuándo dos enredos son iguales?"
      ]
    },
    {
      "cell_type": "markdown",
      "metadata": {
        "id": "j4gdJEA5jUpa"
      },
      "source": [
        "*Responde en esta celda.*\n",
        "\n"
      ]
    },
    {
      "cell_type": "code",
      "execution_count": null,
      "metadata": {
        "colab": {
          "base_uri": "https://localhost:8080/",
          "height": 34
        },
        "id": "Nklf_xvTEbZ-",
        "outputId": "d55a43cb-227d-42af-99b6-2c6b897250e6"
      },
      "outputs": [],
      "source": [
        "x = Tangle(\"\",0)\n",
        "print(x)"
      ]
    },
    {
      "cell_type": "markdown",
      "metadata": {
        "id": "utw6_u-HHa9p"
      },
      "source": [
        "¿Qué enredo representa __x__?"
      ]
    },
    {
      "cell_type": "markdown",
      "metadata": {
        "id": "vQ_noT8pjibj"
      },
      "source": [
        "*Responde en esta celda.*\n"
      ]
    },
    {
      "cell_type": "markdown",
      "metadata": {
        "id": "UWOyqPvGEbad"
      },
      "source": [
        "## Torcer y rotar"
      ]
    },
    {
      "cell_type": "markdown",
      "metadata": {
        "id": "lvO9U_qaKYw2"
      },
      "source": [
        "A continuación definiremos la operación Torcer."
      ]
    },
    {
      "cell_type": "code",
      "execution_count": null,
      "metadata": {
        "id": "ZjO5hyhaEbaf"
      },
      "outputs": [],
      "source": [
        "# Función que dado un 'enredo' aplicará a este la operación 'Torcer', resultando en:\n",
        "#   - Agregar un caracter 'T' a la secuencia que describe al enredo.\n",
        "#   - Modificar el valor asociado al enredo.\n",
        "\n",
        "def twist(tangle: Tangle):\n",
        "\n",
        "    tangle.sequence += 'T'\n",
        "\n",
        "    if( tangle.value != float('-inf') ):\n",
        "        tangle.value += 1"
      ]
    },
    {
      "cell_type": "markdown",
      "metadata": {
        "id": "_TxtuGzkJctZ"
      },
      "source": [
        "Recordemos que algún enredo podría tener un valor que no sea racional. De acuerdo al código ¿qué sucede en este caso?"
      ]
    },
    {
      "cell_type": "markdown",
      "metadata": {
        "id": "04TkrH85_EXS"
      },
      "source": [
        "_Responde en esta celda._"
      ]
    },
    {
      "cell_type": "markdown",
      "metadata": {
        "id": "jTiw1UA9KJEg"
      },
      "source": [
        "En seguida, mostraremos un ejemplo. Comenzaremos con el enredo ***x*** que representa el estado inicial y realizaremos una operación de Torcer."
      ]
    },
    {
      "cell_type": "code",
      "execution_count": null,
      "metadata": {
        "colab": {
          "base_uri": "https://localhost:8080/",
          "height": 52
        },
        "id": "P2CJCJDWEbal",
        "outputId": "f5c5d934-ff7c-49f1-b339-e6ac6b0b5f09"
      },
      "outputs": [],
      "source": [
        "x = Tangle(\"\",0)\n",
        "print(x)\n",
        "twist(x)\n",
        "print(x)"
      ]
    },
    {
      "cell_type": "markdown",
      "metadata": {
        "id": "eL2DOjt6LE_n"
      },
      "source": [
        "A continuación, definiremos la operación Rotar."
      ]
    },
    {
      "cell_type": "code",
      "execution_count": null,
      "metadata": {
        "id": "UtiDE1MHEbbJ"
      },
      "outputs": [],
      "source": [
        "# Función que dado un 'enredo' aplicará a este la operación 'Rotar', resultando en:\n",
        "#   - Agregar un caracter 'R' a la secuencia que describe al enredo.\n",
        "#   - Modificar el valor asociado al enredo.\n",
        "\n",
        "def rotate(tangle: Tangle):\n",
        "\n",
        "    tangle.sequence += 'R'\n",
        "\n",
        "    # Caso 1:\n",
        "    if( tangle.value == 0 ):\n",
        "        tangle.value = float('-inf')\n",
        "    # Caso 2:\n",
        "    elif( tangle.value == float('-inf') ):\n",
        "        tangle.value = 0\n",
        "    # Caso 3:\n",
        "    else:\n",
        "        tangle.value = -(1/tangle.value)"
      ]
    },
    {
      "cell_type": "markdown",
      "metadata": {
        "id": "O-cSUPqvLS0C"
      },
      "source": [
        "De acuerdo con el código, ¿cómo se atiende el caso donde hay un enredo que no es racional?\n",
        "¿Podría existir alguna excepción que este código no esté considerando?"
      ]
    },
    {
      "cell_type": "markdown",
      "metadata": {
        "id": "4IE4tpnZ-fhy"
      },
      "source": [
        "_Responde en esta celda._"
      ]
    },
    {
      "cell_type": "markdown",
      "metadata": {
        "id": "EKt-9FchMBGG"
      },
      "source": [
        "En seguida, mostraremos otro ejemplo. Comenzaremos del estado inicial y realizaremos una operación de Rotar."
      ]
    },
    {
      "cell_type": "code",
      "execution_count": null,
      "metadata": {
        "colab": {
          "base_uri": "https://localhost:8080/",
          "height": 52
        },
        "id": "fw-zIl9oEbbS",
        "outputId": "20bf2642-c1f2-49ac-b9cc-9490d7771939"
      },
      "outputs": [],
      "source": [
        "x = Tangle(\"\",0)\n",
        "print(x)\n",
        "rotate(x)\n",
        "print(x)"
      ]
    },
    {
      "cell_type": "markdown",
      "metadata": {
        "id": "DIJOIMBAEbbf"
      },
      "source": [
        "### ¡A explorar!"
      ]
    },
    {
      "cell_type": "markdown",
      "metadata": {
        "id": "asi5chNhnjJi"
      },
      "source": [
        "#### **Ejercicio 1:**\n",
        "\n",
        "Diseña y programa una función que dada una secuencia de caracteres *T* y *R* sea capaz de generar y devolver un enredo al que se le han aplicado estas operaciones.\n",
        "\n",
        "**Nota:** *T* representa la operación torcer y *R* representa la operación rotar."
      ]
    },
    {
      "cell_type": "code",
      "execution_count": null,
      "metadata": {
        "id": "Wl5K9hxQo0vS"
      },
      "outputs": [],
      "source": [
        "def processor(sequence: str):\n",
        "    # Espacio para realizar Ejercicio 1.\n",
        "    ..."
      ]
    },
    {
      "cell_type": "code",
      "execution_count": null,
      "metadata": {
        "id": "IoAjwROqvvzH"
      },
      "outputs": [],
      "source": [
        "print(processor(\"TRTTT\"))"
      ]
    },
    {
      "cell_type": "markdown",
      "metadata": {
        "id": "N4UR84swnlzJ"
      },
      "source": [
        "#### **Ejercicio 2:**\n",
        "\n",
        "Una vez que hayas resuelto el Ejercicio 1, usa tu función para generar el enredo descrito por la secuencia *\\\"TTTTRTTR\\\"*. Posteriormente aplica las operaciones necesarias para que este enredo sea \"desenredado\".\n",
        "\n",
        "**Nota:** Las operaciones utilizadas deberán estar en la siguiente celda, se debe ver en pantalla cuál es la descripción del enredo *\\\"TTTTRTTR\\\"* y las operaciones aplicadas."
      ]
    },
    {
      "cell_type": "code",
      "execution_count": null,
      "metadata": {
        "id": "ceYIYegTEbbn"
      },
      "outputs": [],
      "source": [
        "# Espacio para realizar Ejercicio 2\n",
        "\n",
        "# w representa enredo TTTTRTTR\n",
        "\n",
        "# Imprimir en pantalla cómo se describe w\n",
        "\n",
        "# Operaciones aplicadas\n",
        "\n",
        "# Imprimir en pantalla cómo se describe w"
      ]
    },
    {
      "cell_type": "markdown",
      "metadata": {
        "id": "kN-GkSpyEbb0"
      },
      "source": [
        "## Búsqueda"
      ]
    },
    {
      "cell_type": "markdown",
      "metadata": {
        "id": "LqJE8UjBuWKv"
      },
      "source": [
        "### Nodos en el árbol de búsqueda"
      ]
    },
    {
      "cell_type": "code",
      "execution_count": null,
      "metadata": {
        "id": "VaDw9jmgEbb1"
      },
      "outputs": [],
      "source": [
        "class Node:\n",
        "\n",
        "    def __init__(self,tangle:Tangle,level:int=0):\n",
        "        self.tangle = tangle\n",
        "        self.level  = level\n",
        "\n",
        "\n",
        "    def __eq__(self, other):\n",
        "        return self.tangle.value == other.tangle.value\n",
        "\n",
        "\n",
        "    def __copy__(self):\n",
        "        return Node(self.tangle,self.level)\n",
        "\n",
        "\n",
        "    def __deepcopy__(self,memo):\n",
        "        tangle = copy.deepcopy(self.tangle,memo)\n",
        "        level  = copy.deepcopy(self.level ,memo)\n",
        "        return Node(tangle,level)\n",
        "\n",
        "    def __str__(self):\n",
        "        return f\"El nodo tiene las siguientes características: \\n \\t\\t Enredo: {self.tangle.sequence} \\n \\t\\t Valor : {self.tangle.value} \\n \\t\\t Nivel : {self.level}\""
      ]
    },
    {
      "cell_type": "markdown",
      "metadata": {
        "id": "qJC7yyijNwTO"
      },
      "source": [
        "De acuerdo con su definición, ¿qué significa que **\\\"\\_\\_eq\\_\\_\\\"** resulte verdadero para dos nodos?"
      ]
    },
    {
      "cell_type": "markdown",
      "metadata": {
        "id": "tlje37v3rQ2v"
      },
      "source": [
        "*Responde aquí.*"
      ]
    },
    {
      "cell_type": "markdown",
      "metadata": {
        "id": "yQi6kreKOQwO"
      },
      "source": [
        "Teniendo en cuenta la pregunta anterior, ¿cuál es la distinción entre los enredos físicos, los enredos con la definición de clase _Tangle_ y los nodos que se acaban de definir?"
      ]
    },
    {
      "cell_type": "markdown",
      "metadata": {
        "id": "_QnpfZtWswOF"
      },
      "source": [
        "*Responde aquí*"
      ]
    },
    {
      "cell_type": "code",
      "execution_count": null,
      "metadata": {
        "id": "iGZLN6BZrh9t"
      },
      "outputs": [],
      "source": [
        "# Enredo de la clase Tagle sin secuencia de operaciones\n",
        "x_original = Tangle(\"\",0)\n",
        "\n",
        "# Enredo de la clase Tagle rotado 4 veces\n",
        "x_rotated  = copy.deepcopy(x_original)\n",
        "\n",
        "rotate(x_rotated)\n",
        "rotate(x_rotated)\n",
        "rotate(x_rotated)\n",
        "rotate(x_rotated)\n",
        "\n",
        "# Resultado de la comparación\n",
        "print( x_original == x_rotated )"
      ]
    },
    {
      "cell_type": "code",
      "execution_count": null,
      "metadata": {
        "id": "H9FcEApzs2HJ"
      },
      "outputs": [],
      "source": [
        "node_original = Node(x_original)\n",
        "\n",
        "node_rotated  = Node(x_rotated)\n",
        "\n",
        "# Resultado de la comparación\n",
        "print( node_original == node_rotated )"
      ]
    },
    {
      "cell_type": "markdown",
      "metadata": {
        "id": "S8UowTFiPKEj"
      },
      "source": [
        "El ejemplo anterior, ¿concuerda con lo que observaste en tu última respuesta o la modifica de alguna manera?"
      ]
    },
    {
      "cell_type": "markdown",
      "metadata": {
        "id": "ezJ3i4eWtsXw"
      },
      "source": [
        "*Responde en esta celda a la pregunta anterior.*"
      ]
    },
    {
      "cell_type": "markdown",
      "metadata": {
        "id": "vYsrVmYlukV-"
      },
      "source": [
        "### Generar nodos hijo en el árbol de búsqueda"
      ]
    },
    {
      "cell_type": "markdown",
      "metadata": {
        "id": "pFAPH6zDPcEx"
      },
      "source": [
        "#### **Ejercicio 3:**\n",
        "\n",
        "A continuación, usa la función diseñada en el Ejercicio 1 para construir el enredo \"TTTTTTTTRTTTTRTTRTR\" que nos servirá de inicio para empezar a desenredar automáticamente."
      ]
    },
    {
      "cell_type": "code",
      "execution_count": null,
      "metadata": {
        "id": "fQuspyuDwx6q"
      },
      "outputs": [],
      "source": [
        "# Espacio para el ejercicio 3\n",
        "initial_tangle = ..."
      ]
    },
    {
      "cell_type": "code",
      "execution_count": null,
      "metadata": {
        "id": "2lWmOB4TEbcD"
      },
      "outputs": [],
      "source": [
        "initial_node = Node(initial_tangle)\n",
        "print(initial_node)"
      ]
    },
    {
      "cell_type": "markdown",
      "metadata": {
        "id": "VPTKufz1x3UW"
      },
      "source": [
        "¿Cómo podemos generar los nodos hijo dentro del árbol de búsqueda para este problema?"
      ]
    },
    {
      "cell_type": "markdown",
      "metadata": {
        "id": "yGqN_pw8yGPt"
      },
      "source": [
        "*Responde aquí.*"
      ]
    },
    {
      "cell_type": "markdown",
      "metadata": {
        "id": "-xHLwNwdyK1F"
      },
      "source": [
        "\n",
        "Aplicar una u otra de las operaciones a un nodo genera dos hijos posibles. Afirmamos que, al repetir ese proceso, se construye un árbol, puesto que un mismo nodo nunca aparece dos veces.\n",
        "\n",
        "De hecho, un mismo enredo no aparece dos veces. ¿Por qué se puede afirmar esto último?\n",
        "\n"
      ]
    },
    {
      "cell_type": "markdown",
      "metadata": {
        "id": "kPzy289v9glm"
      },
      "source": [
        "_Responde en este espacio._"
      ]
    },
    {
      "cell_type": "code",
      "execution_count": null,
      "metadata": {
        "id": "NPt3ZSdWEbcU"
      },
      "outputs": [],
      "source": [
        "# Función que aplica una operación a un nodo del árbol de búsqueda, regresando un nuevo nodo con la operación aplicada.\n",
        "#   - Genera el nuevo nodo que en un futuro será el modificado.\n",
        "#   - Aplica la operación al 'Tangle' del nuevo nodo.\n",
        "#   - Aumenta un nivel en el árbol de búsqueda para el nuevo nodo.\n",
        "#   - Regresa en nodo modificado.\n",
        "\n",
        "def apply_operation(node,operation):\n",
        "\n",
        "    modified_node = copy.deepcopy(node)\n",
        "\n",
        "    if( operation == \"twist\" ):\n",
        "        twist( modified_node.tangle )\n",
        "    elif( operation == \"rotate\" ):\n",
        "        rotate( modified_node.tangle )\n",
        "\n",
        "    modified_node.level += 1\n",
        "\n",
        "    return modified_node"
      ]
    },
    {
      "cell_type": "markdown",
      "metadata": {
        "id": "8tfrnZUczfVO"
      },
      "source": [
        "En las siguientes tres celdas se presenta una operación aplicada al nodo que generamos hace algunas celdas, este es el resultado:"
      ]
    },
    {
      "cell_type": "code",
      "execution_count": null,
      "metadata": {
        "id": "j9SkTS6zEbcf"
      },
      "outputs": [],
      "source": [
        "print(initial_node)"
      ]
    },
    {
      "cell_type": "code",
      "execution_count": null,
      "metadata": {
        "id": "jTyCHOESEbco"
      },
      "outputs": [],
      "source": [
        "aux_node = apply_operation(initial_node,\"rotate\")"
      ]
    },
    {
      "cell_type": "code",
      "execution_count": null,
      "metadata": {
        "id": "s7jgSynKEbct"
      },
      "outputs": [],
      "source": [
        "print(aux_node)"
      ]
    },
    {
      "cell_type": "markdown",
      "metadata": {
        "id": "ogXMIaD9QVaa"
      },
      "source": [
        "Cuando se aplica una operación sobre un nodo, ¿qué cambios hay entre el nodo inicial y el que se genera?"
      ]
    },
    {
      "cell_type": "markdown",
      "metadata": {
        "id": "rzR99a6Eyg0i"
      },
      "source": [
        "*Escribe en este espacio los cambios.*"
      ]
    },
    {
      "cell_type": "markdown",
      "metadata": {
        "id": "1r-9I81x2wFC"
      },
      "source": [
        "### Automatización"
      ]
    },
    {
      "cell_type": "markdown",
      "metadata": {
        "id": "HqAlC6cGTr8s"
      },
      "source": [
        "En las siguientes líneas proponemos un código para automatizar la búsqueda."
      ]
    },
    {
      "cell_type": "code",
      "execution_count": null,
      "metadata": {
        "id": "oBWgbi16Ebc1"
      },
      "outputs": [],
      "source": [
        "# Función que automatiza la búsqueda de una secuencia que desenrede automaticamente,\n",
        "#     usando búsqueda en anchura y realizando los siguientes pasos:\n",
        "#\n",
        "#   - Generar la frontera de búsqueda con el nodo inicial\n",
        "#   - Mientras exista un nodo en la frontera de búsqueda:\n",
        "#         * Tomar el primer nodo de la frontera y quitarlo de la misma.\n",
        "#         * Verificar si cumple con las características del nodo objetivo.\n",
        "#               > Si cumple las características, presentar la secuencia de operaciones para \"desenredar\"\n",
        "#               > Si no cumple, generar a sus nodos hijo.\n",
        "#         * Para cada nodo hijo verificar si ya lo hemos explorado,\n",
        "#           y si no lo hemos explorado agregarlo a la frontera de búsqueda.\n",
        "\n",
        "def make_search(root:Node):\n",
        "\n",
        "    # Construcción de la frontera de búsqueda\n",
        "    frontier = deque()\n",
        "    frontier.append(root)\n",
        "\n",
        "    seen_before_nodes = set([root.tangle.value])\n",
        "\n",
        "\n",
        "    # Búsqueda\n",
        "    while( frontier ):\n",
        "\n",
        "        # Obtener la información del nodo a explorar y retirarlo de la frontera de búsqueda\n",
        "        node = frontier[0]\n",
        "        frontier.popleft()\n",
        "\n",
        "        # Nodo objetivo, ¿lo encontramos?\n",
        "        if( node.tangle.value == 0.0 ):\n",
        "            print(\"Listo, la respuesta es: {}\".format(node.tangle.sequence[ len(node.tangle.sequence) - node.level : ]) )\n",
        "            break\n",
        "\n",
        "        # Generar los nodos hijo, en caso de que el nodo no sea el deseado.\n",
        "        children_nodes    = []\n",
        "        allowed_operators = [\"twist\",\"rotate\"]\n",
        "\n",
        "        for operator in allowed_operators:\n",
        "            new_node = apply_operation(node,operator)\n",
        "            children_nodes.append( new_node )\n",
        "\n",
        "        # Verificar si hemos explorado los nodos hijo\n",
        "        for child_node,last_operation in zip(children_nodes,allowed_operators):\n",
        "\n",
        "            if( child_node.tangle.value not in seen_before_nodes ):\n",
        "                frontier.append(child_node)\n",
        "                seen_before_nodes.add(child_node.tangle.value)"
      ]
    },
    {
      "cell_type": "markdown",
      "metadata": {
        "id": "Rh-9h5lsWqi2"
      },
      "source": [
        "¿Qué utilidad tiene el conjunto **seen_before_nodes**?"
      ]
    },
    {
      "cell_type": "markdown",
      "metadata": {
        "id": "1AJbzkM42HSM"
      },
      "source": [
        "*Escribe aquí tu respuesta.*"
      ]
    },
    {
      "cell_type": "markdown",
      "metadata": {
        "id": "vS7kTf_k2VsR"
      },
      "source": [
        "## Recapitulando"
      ]
    },
    {
      "cell_type": "code",
      "execution_count": null,
      "metadata": {
        "id": "tU2-ul5u2nkd"
      },
      "outputs": [],
      "source": [
        "initial_tangle = processor(\"TTTTRTTR\")"
      ]
    },
    {
      "cell_type": "code",
      "execution_count": null,
      "metadata": {
        "id": "0t34azKNEbdY"
      },
      "outputs": [],
      "source": [
        "initial_node = Node(initial_tangle)\n",
        "print(initial_node)"
      ]
    },
    {
      "cell_type": "code",
      "execution_count": null,
      "metadata": {
        "id": "N6U6F6TJEbdi"
      },
      "outputs": [],
      "source": [
        "make_search(initial_node)"
      ]
    },
    {
      "cell_type": "markdown",
      "metadata": {
        "id": "bUxyP64aTj3_"
      },
      "source": [
        "A partir del análisis del código y haciendor referencia a él, responde las siguientes preguntas:\n",
        "\n",
        "1. ¿Se encuentra siempre la solución?\n",
        "2. ¿La solución que se encuentra es óptima? ¿Por qué?"
      ]
    },
    {
      "cell_type": "markdown",
      "metadata": {
        "id": "Hd01w8brEprB"
      },
      "source": [
        "*Escribe aquí tus respuestas:*\n",
        "\n",
        "1. -\n",
        "2. -"
      ]
    },
    {
      "cell_type": "markdown",
      "metadata": {
        "id": "leqYtlnX3jSI"
      },
      "source": [
        "## Las computadoras no entienden los decimales"
      ]
    },
    {
      "cell_type": "markdown",
      "metadata": {
        "id": "rnK6YDleXEIe"
      },
      "source": [
        "Supongamos que tenemos una secuencia de operaciones en la cual hemos aplicado $10^{400}$ veces la operación torcer y al final la operación rotar.\n",
        "\n",
        "Responde:\n",
        "1. ¿Cuál será el valor asociado a este enredo?\n",
        "2. ¿Que valor almacenará la computadora?\n",
        "3. Dado el código anterior, ¿qué pasará en el algoritmo? Considera el error de representación numérica."
      ]
    },
    {
      "cell_type": "markdown",
      "metadata": {
        "id": "06O3vew95Af8"
      },
      "source": [
        "*Responde aquí:*\n",
        "\n",
        "1. -\n",
        "2. -\n",
        "3. -"
      ]
    },
    {
      "cell_type": "code",
      "execution_count": null,
      "metadata": {
        "id": "RnK1SJj0GfR3"
      },
      "outputs": [],
      "source": [
        "# ¿Esto te da alguna sugerencia? Juega con los valores del exponente\n",
        "\n",
        "k = (1)/(10**400)\n",
        "print(k)\n",
        "print( k == 0.0 )"
      ]
    },
    {
      "cell_type": "markdown",
      "metadata": {
        "id": "P4A3d6dBXf_p"
      },
      "source": [
        "Representar con fracciones el valor asociado a cada enredo resulta conveniente para atender la situación descrita anteriormente.\n",
        "Modifica los códigos de este notebook, para utilizar esta representación y usa tu código para encontrar la solución para desenredar los nudos de la tarea 1\n",
        "\n",
        "Para enviar la respuesta a esta actividad, elabora un nuevo Notebook solamente con los códigos necesarios para ejecutar tu propuesta.\n",
        "\n",
        "**Sugerencia:** Ten cuidado con las operaciones y comparaciones."
      ]
    },
    {
      "cell_type": "markdown",
      "metadata": {
        "id": "4quNSfEW5NIY"
      },
      "source": [
        "Algunas preguntas que te ayudarán en esta tarea son:\n",
        "\n",
        "1. ¿Qué significa en este caso torcer y rotar?\n",
        "2. ¿Cambia la forma de verificar si un nodo ya ha sido visto antes?"
      ]
    },
    {
      "cell_type": "markdown",
      "metadata": {
        "id": "eTbD6vSm9ohi"
      },
      "source": [
        "*Reflexiona y responde aquí.*\n",
        "\n",
        "1.  \n",
        "2.  "
      ]
    }
  ],
  "metadata": {
    "colab": {
      "collapsed_sections": [
        "N4UR84swnlzJ",
        "pFAPH6zDPcEx"
      ],
      "provenance": []
    },
    "kernelspec": {
      "display_name": "Python 3 (ipykernel)",
      "language": "python",
      "name": "python3"
    },
    "language_info": {
      "codemirror_mode": {
        "name": "ipython",
        "version": 3
      },
      "file_extension": ".py",
      "mimetype": "text/x-python",
      "name": "python",
      "nbconvert_exporter": "python",
      "pygments_lexer": "ipython3",
      "version": "3.10.5"
    }
  },
  "nbformat": 4,
  "nbformat_minor": 0
}
